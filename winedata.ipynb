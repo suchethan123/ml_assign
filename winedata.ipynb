{
  "nbformat": 4,
  "nbformat_minor": 0,
  "metadata": {
    "colab": {
      "provenance": []
    },
    "kernelspec": {
      "name": "python3",
      "display_name": "Python 3"
    },
    "language_info": {
      "name": "python"
    }
  },
  "cells": [
    {
      "cell_type": "code",
      "execution_count": 3,
      "metadata": {
        "id": "eylp_VkLPyrk"
      },
      "outputs": [],
      "source": [
        "import pandas as pd\n",
        "\n",
        "# Load the dataset\n",
        "wine_data = pd.read_csv('WineQT.csv')\n",
        "\n",
        "# Convert the quality attribute\n",
        "wine_data['quality'] = wine_data['quality'].apply(lambda x: 0 if x <= 6 else 1)\n",
        "\n",
        "# Save the processed data to a new CSV file\n",
        "wine_data.to_csv('Processed_WineQT.csv', index=False)\n",
        "\n"
      ]
    }
  ]
}